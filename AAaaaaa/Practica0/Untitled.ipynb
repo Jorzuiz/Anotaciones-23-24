{
 "cells": [
  {
   "cell_type": "code",
   "execution_count": 1,
   "id": "e7b14e79",
   "metadata": {},
   "outputs": [
    {
     "ename": "SyntaxError",
     "evalue": "expected ':' (2343364708.py, line 8)",
     "output_type": "error",
     "traceback": [
      "\u001b[1;36m  Cell \u001b[1;32mIn[1], line 8\u001b[1;36m\u001b[0m\n\u001b[1;33m    def integramc(fun, a, b, num_puntos=10000)\u001b[0m\n\u001b[1;37m                                              ^\u001b[0m\n\u001b[1;31mSyntaxError\u001b[0m\u001b[1;31m:\u001b[0m expected ':'\n"
     ]
    }
   ],
   "source": [
    "import numpy as py\n",
    "\n",
    "puntosx = 1\n",
    "puntosy = 3\n",
    "puntos= np.random.random((puntosx, puntosy))\n",
    "\n",
    "# calcula la integral de fun entre valores a y b\n",
    "def integra_mc(fun, a, b, num_puntos=10000):\n",
    "\n",
    "def cuadrado(x):\n",
    "    return x * x"
   ]
  },
  {
   "cell_type": "code",
   "execution_count": null,
   "id": "5ec95f63",
   "metadata": {},
   "outputs": [],
   "source": []
  }
 ],
 "metadata": {
  "kernelspec": {
   "display_name": "Python 3 (ipykernel)",
   "language": "python",
   "name": "python3"
  },
  "language_info": {
   "codemirror_mode": {
    "name": "ipython",
    "version": 3
   },
   "file_extension": ".py",
   "mimetype": "text/x-python",
   "name": "python",
   "nbconvert_exporter": "python",
   "pygments_lexer": "ipython3",
   "version": "3.10.9"
  }
 },
 "nbformat": 4,
 "nbformat_minor": 5
}
