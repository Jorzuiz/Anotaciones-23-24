{
 "cells": [
  {
   "cell_type": "markdown",
   "metadata": {},
   "source": [
    "# Practica 4 \n",
    "### Amparo Rubio Bellón y Jorge Zurdo Izquierdo\n",
    "\n",
    ">Aplicacion de prediccion de una red neuronal entrenada.\n",
    ">La practica aplica el algoritmo de feedforward a una serie de ejemplos partiendo de pesos de una red entrenada.\n",
    "\n"
   ]
  },
  {
   "cell_type": "code",
   "execution_count": 1,
   "metadata": {},
   "outputs": [
    {
     "name": "stdout",
     "output_type": "stream",
     "text": [
      "Porcentaje de aciertos de la red: 97.52%\n"
     ]
    }
   ],
   "source": [
    "from scipy.io import loadmat\n",
    "import utils as util\n",
    "import ANN\n",
    "import numpy as np\n",
    "\n",
    "# Se cargan los datos de las imágenes y se \"aplanan\"\n",
    "# Las imagenes pasan de ser 20x20 a un array de 400 \n",
    "data = loadmat('data/ex3data1.mat', squeeze_me=True)\n",
    "y = data['y']\n",
    "X = data['X']\n",
    "\n",
    "# Se cargan los pesos de la red entrenada\n",
    "weights = loadmat('data/ex3weights.mat')\n",
    "theta1, theta2 = weights['Theta1'], weights['Theta2']\n",
    "\n",
    "# Hace las predicciones de TODO x\n",
    "predictions = ANN.predict(theta1, theta2, X)\n",
    "\n",
    "# Calcula la precision como un porcentaje\n",
    "accuracy = np.mean(predictions == y) * 100\n",
    "print(f'Porcentaje de aciertos de la red: {accuracy}%')\n"
   ]
  },
  {
   "cell_type": "code",
   "execution_count": 10,
   "metadata": {},
   "outputs": [
    {
     "name": "stdout",
     "output_type": "stream",
     "text": [
      "[[496   0   0   0   1   0   1   0   1   1]\n",
      " [  0 491   1   1   2   0   0   1   3   1]\n",
      " [  3   1 485   0   3   1   3   1   2   1]\n",
      " [  0   2   2 480   0   8   1   4   1   2]\n",
      " [  0   2   2   0 484   0   3   0   1   8]\n",
      " [  0   0   1   4   1 492   2   0   0   0]\n",
      " [  2   2   0   0   0   3 493   0   0   0]\n",
      " [  1   3   2   1   4   0   0 485   0   4]\n",
      " [  0   4   1   1   2   1   0   0 491   0]\n",
      " [  3   2   0   4   2   1   1   5   3 479]]\n",
      "Porcentaje de positivos que no fueron falsos: 0.9821782178217822\n",
      "Porcentaje de positivos verdaderos: 0.992\n",
      "F1 Score: 0.9870646766169154\n"
     ]
    }
   ],
   "source": [
    "from sklearn.metrics import confusion_matrix, precision_score, recall_score, f1_score\n",
    "\n",
    "# Matriz que muestra los aciertos y errores de la red para los valores posibles\n",
    "# indica en la primera fila, que los valores reales de 1 son 496 y que algunos se han leido como 4, 6, 8 y 9\n",
    "cm = confusion_matrix(y, predictions)\n",
    "print(cm)\n",
    "\n",
    "# Cantidad de aciertos respecto a los falsos positivos\n",
    "# TP/TP+FP\n",
    "precision = precision_score(y == 0, predictions == 0)\n",
    "print(f'Porcentaje de positivos que no fueron falsos: {precision}')\n",
    "\n",
    "# TP/TP+FN\n",
    "recall = recall_score(y == 0, predictions == 0)\n",
    "print(f'Porcentaje de positivos verdaderos: {recall}')\n",
    "\n",
    "# 2*(Precision*Recall)/(Precision+Recall)\n",
    "# Media armónica entre precision y recall\n",
    "# Sirve para comprobar si hay mucho falso positivo o falso negativo\n",
    "f1 = f1_score(y == 0, predictions == 0)\n",
    "print(f'F1 Score: {f1}')"
   ]
  }
 ],
 "metadata": {
  "kernelspec": {
   "display_name": "Python 3",
   "language": "python",
   "name": "python3"
  },
  "language_info": {
   "codemirror_mode": {
    "name": "ipython",
    "version": 3
   },
   "file_extension": ".py",
   "mimetype": "text/x-python",
   "name": "python",
   "nbconvert_exporter": "python",
   "pygments_lexer": "ipython3",
   "version": "3.10.11"
  }
 },
 "nbformat": 4,
 "nbformat_minor": 2
}
