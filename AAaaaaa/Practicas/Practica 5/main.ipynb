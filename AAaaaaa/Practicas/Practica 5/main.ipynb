{
 "cells": [
  {
   "cell_type": "markdown",
   "metadata": {},
   "source": [
    "# Practica 5\n",
    "## Jorge Zurdo Izquierdo\n",
    "\n",
    "1. Desarrollo del algoritmo Feedforward\n",
    "Algoritmo que implementa el `crecimiento` de la capa inicial de neuronas (imagen 20x20 aplanada a 400).\n",
    "Se crea 1 o más capas ocultas con valores \"aleatorios\"denominados `pesos` conocidos como `Theta` que conectan las capas.\n",
    "La primera capa realiza una operacion dot matrix que multiplica EN la matrix inicial (400) cada valor por un peso diferente (400) y se lo suma a las neuronas intermedias (25). Esto significa que, cada una de las 25 neuronas intermedias es el resultado de 400 neuronas multiplicadas por su peso especifico para si misma (400 * 25).\n",
    "`Neurona Intermedia 1 = Neurona 1 * Peso intermedia 1 + neurona 2 * Peso intermedia 1....\n",
    "`Neurona Intermedia 2 = Neurona 1 * Peso intermedia 2 + neurona 2 * Peso intermedia 2.... \n",
    "\n",
    "2. Desarollo de función de coste\n",
    "Se llama `coste` pero lo que mide es el `error`. Se coge la `capa salida`, se compara con el resultado esperado para la imagen inicial, y si es incorrecta, se usa la función MSE para calcular cuanto nos hemos desviado.\n",
    "Se calcula sobre cada capa `Theta`\n",
    "\n",
    "3. Desarrollo del algoritmo Backdropagation\n",
    "Algoritmo que implementa el `aprendizaje`\n",
    "\n",
    "- One-Hot Encoding se usa para codificar las salidas, eso quiere decir que el vector de 10 valores con un 1 en uno de ellos y 0 en el resto indica cual de los valores de 0-9 leemos, (0010000000 = 2)\n",
    "- Alpha\n",
    "- Lambda\n"
   ]
  },
  {
   "cell_type": "code",
   "execution_count": 1,
   "metadata": {},
   "outputs": [],
   "source": [
    "from scipy.io import loadmat, savemat\n",
    "from sklearn.preprocessing import OneHotEncoder\n",
    "\n",
    "# Imágenes de entrenamiento cargadas en una matriz plana\n",
    "data = loadmat('data/ex3data1.mat', squeeze_me=True)\n",
    "\n",
    "# Pesos de la red neuronal YA ENTRENADOS\n",
    "weights = loadmat('data/ex3weights.mat')\n",
    "theta1, theta2 = weights['Theta1'], weights['Theta2']\n",
    "\n",
    "y = data['y']\n",
    "X = data['X']   # Dataset de entrenamiento (5000 imagenes 20x20 [5000x400])\n",
    "\n",
    "#print(y.shape)\n",
    "y = y.reshape(-1,1) \n",
    "encoder = OneHotEncoder(sparse_output = False) # La matriz sparse daba error en la funcion de coste\n",
    "Y = encoder.fit_transform(y)\n",
    "#print(y.shape)  # Matriz de salida original (5000 valores de 0-9 [5000x1])\n",
    "#print(y)\n",
    "#print(X.shape)\n",
    "#print(X)\n",
    "#print(Y.shape)\n",
    "#print(Y)    # Matriz de salida codificada en OneHot (5000 valores de 1000000000-0000000001 [5000x10])\n"
   ]
  },
  {
   "cell_type": "markdown",
   "metadata": {},
   "source": [
    "# Implementacion"
   ]
  },
  {
   "cell_type": "code",
   "execution_count": 2,
   "metadata": {},
   "outputs": [
    {
     "name": "stdout",
     "output_type": "stream",
     "text": [
      "Cost = 0.384487796242894\n",
      "If your backpropagation implementation is correct, then \n",
      "the relative difference will be small (less than 1e-9). \n",
      "Relative Difference: 0.111026\n",
      "Epoch 0, Cost: 7.085720082338404\n",
      "Epoch 100, Cost: 3.1650853915761883\n",
      "Epoch 200, Cost: 2.8768530678141855\n",
      "Epoch 300, Cost: 2.325403446469916\n",
      "Epoch 400, Cost: 1.901275768590724\n",
      "Epoch 500, Cost: 1.6215887526734079\n",
      "Epoch 600, Cost: 1.4275073799306464\n",
      "Epoch 700, Cost: 1.2848240851566375\n",
      "Epoch 800, Cost: 1.1753744100058872\n",
      "Epoch 900, Cost: 1.089209671511629\n"
     ]
    }
   ],
   "source": [
    "from utils import checkNNGradients\n",
    "import ann as net\n",
    "\n",
    "c = net.cost(theta1,theta2,X,Y,1)   # El ultimo parametro es el lambda\n",
    "print(f\"Cost = {c}\")\n",
    "\n",
    "\n",
    "checkNNGradients(net.backProp)\n",
    "\n",
    "# entrenamiento\n",
    "\n",
    "theta1, theta2 = net.training(X,Y,25,10,0.12,1,1,1000)  # El ultimo parametro es el lambda\n",
    "\n"
   ]
  },
  {
   "cell_type": "code",
   "execution_count": 3,
   "metadata": {},
   "outputs": [
    {
     "name": "stdout",
     "output_type": "stream",
     "text": [
      "(5000, 400)\n",
      "(5000, 10)\n",
      "[[0]\n",
      " [0]\n",
      " [0]\n",
      " ...\n",
      " [9]\n",
      " [9]\n",
      " [0]]\n",
      "89.75999999999999\n",
      "[[486   0   0   3   0   3   5   2   1   0]\n",
      " [  0 488   1   1   1   3   1   1   4   0]\n",
      " [ 10  12 432   7  11   0   6   8  14   0]\n",
      " [  2   4  13 443   1  19   2   6   6   4]\n",
      " [  1   4   5   0 464   1   6   0   1  18]\n",
      " [ 13   3   5  34  14 391  13   1  21   5]\n",
      " [  5   4   6   0   4   3 474   0   4   0]\n",
      " [  4  12   6   1   6   2   0 457   1  11]\n",
      " [  5   8  13  10   4  12   8   0 433   7]\n",
      " [ 11   2   2   6  25   5   1  23   5 420]]\n"
     ]
    }
   ],
   "source": [
    "import numpy as np\n",
    "from sklearn.metrics import confusion_matrix\n",
    "\n",
    "Y_output = net.predict(theta1,theta2,X)\n",
    "print(Y_output)\n",
    "\n",
    "print(np.sum(Y_output == y) / y.shape[0] * 100)  # Porcentaje de aciertos\n",
    "\n",
    "cm = confusion_matrix(y, Y_output)\n",
    "print(cm)"
   ]
  }
 ],
 "metadata": {
  "kernelspec": {
   "display_name": "Python 3",
   "language": "python",
   "name": "python3"
  },
  "language_info": {
   "codemirror_mode": {
    "name": "ipython",
    "version": 3
   },
   "file_extension": ".py",
   "mimetype": "text/x-python",
   "name": "python",
   "nbconvert_exporter": "python",
   "pygments_lexer": "ipython3",
   "version": "3.10.11"
  }
 },
 "nbformat": 4,
 "nbformat_minor": 2
}
