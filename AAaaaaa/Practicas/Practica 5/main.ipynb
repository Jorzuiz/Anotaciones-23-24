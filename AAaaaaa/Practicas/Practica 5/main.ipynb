{
 "cells": [
  {
   "cell_type": "markdown",
   "metadata": {},
   "source": [
    "# Practica 5\n",
    "## Amparo Rubio Bellon y Jorge Zurdo Izquierdo\n",
    "\n",
    "### 1. Desarrollo del algoritmo Feedforward\n",
    "\n",
    "Algoritmo que implementa el `crecimiento` de la capa inicial de neuronas (imagen 20x20 aplanada a 400).\n",
    "Se crea 1 o más capas ocultas con valores \"aleatorios\"denominados `pesos` conocidos como `Theta` que conectan las capas.\n",
    "\n",
    "La primera capa realiza una operacion dot matrix que multiplica EN la matrix inicial (400) cada valor por un peso diferente (400) y se lo suma a las neuronas intermedias (25). Esto significa que, cada una de las 25 neuronas intermedias es el resultado de 400 neuronas multiplicadas por su peso especifico para si misma (400 * 25).\n",
    "\n",
    "`Neurona Intermedia 1 = Neurona 1 * Peso intermedia 1 + neurona 2 * Peso intermedia 1....`\n",
    "\n",
    "`Neurona Intermedia 2 = Neurona 1 * Peso intermedia 2 + neurona 2 * Peso intermedia 2....`\n",
    "\n",
    "### 2. Desarollo de función de coste.\n",
    "\n",
    "Se llama `coste` pero lo que mide es el `error`. Se coge la `capa salida`, se compara con el resultado esperado para la imagen inicial, y si es incorrecta, se usa la función MSE para calcular cuanto nos hemos desviado.\n",
    "Se calcula sobre cada capa `Theta`\n",
    "\n",
    "### 3. Desarrollo del algoritmo Backpropagation\n",
    "\n",
    "Algoritmo que implementa el `aprendizaje`\n",
    "\n",
    "- One-Hot Encoding se usa para codificar las salidas, eso quiere decir que el vector de 10 valores con un 1 en uno de ellos y 0 en el resto indica cual de los valores de 0-9 leemos, (0010000000 = 2)\n",
    "- Alpha\n",
    "- Lambda\n"
   ]
  },
  {
   "cell_type": "code",
   "execution_count": 1,
   "metadata": {},
   "outputs": [],
   "source": [
    "from scipy.io import loadmat, savemat\n",
    "from sklearn.preprocessing import OneHotEncoder\n",
    "import ann as red\n",
    "\n",
    "# Imágenes de entrenamiento cargadas en una matriz plana\n",
    "data = loadmat('data/ex3data1.mat', squeeze_me=True)\n",
    "\n",
    "# Pesos de la red neuronal YA ENTRENADOS\n",
    "weights = loadmat('data/ex3weights.mat')\n",
    "theta1, theta2 = weights['Theta1'], weights['Theta2']\n",
    "\n",
    "y = data['y']\n",
    "X = data['X']   # Dataset de entrenamiento (5000 imagenes 20x20 [5000x400])\n",
    "\n",
    "#print(y.shape)\n",
    "y = y.reshape(-1,1) \n",
    "encoder = OneHotEncoder(sparse_output = False) # La matriz sparse daba error en la funcion de coste\n",
    "Y = encoder.fit_transform(y)\n",
    "#print(y.shape)  # Matriz de salida original (5000 valores de 0-9 [5000x1])\n",
    "#print(y)\n",
    "#print(X.shape)\n",
    "#print(X)\n",
    "#print(Y.shape)\n",
    "#print(Y)    # Matriz de salida codificada en OneHot (5000 valores de 1000000000-0000000001 [5000x10])\n",
    "\n",
    "#red.feedForward(theta1, theta2, X)\n"
   ]
  },
  {
   "cell_type": "markdown",
   "metadata": {},
   "source": [
    "# Implementacion"
   ]
  },
  {
   "cell_type": "code",
   "execution_count": 2,
   "metadata": {},
   "outputs": [
    {
     "name": "stdout",
     "output_type": "stream",
     "text": [
      "Coste en la red anterior = 0.384487796242894\n",
      "If your backpropagation implementation is correct, then \n",
      "the relative difference will be small (less than 1e-9). \n",
      "Relative Difference: 2.55759e-11\n",
      "Epoch 0, Cost: 6.89898722001831\n",
      "Epoch 100, Cost: 1.2625588399345045\n",
      "Epoch 200, Cost: 0.8251643418719662\n",
      "Epoch 300, Cost: 0.6719899660939913\n",
      "Epoch 400, Cost: 0.5978228931437948\n",
      "Epoch 500, Cost: 0.5524044653296246\n",
      "Epoch 600, Cost: 0.5205196825918178\n",
      "Epoch 700, Cost: 0.4963289185185623\n",
      "Epoch 800, Cost: 0.47712209942039824\n",
      "Epoch 900, Cost: 0.4614015275290658\n"
     ]
    }
   ],
   "source": [
    "from utils import checkNNGradients\n",
    "import ann as net\n",
    "\n",
    "c = net.cost(theta1,theta2,X,Y,1)   # El ultimo parametro es el lambda\n",
    "#print(f\"Coste en la red anterior = {c}\") # Devuelve 0.2876291651613189 antes de MSE\n",
    "print(f\"Coste en la red anterior = {c}\") # Devuelve 0.384487796242894 DESPUES de MSE\n",
    "\n",
    "\n",
    "checkNNGradients(net.backProp)\n",
    "\n",
    "# entrenamiento\n",
    "\n",
    "theta1, theta2 = net.training(X,Y,25,10,0.12,1,1,1000)  # El ultimo parametro es el lambda\n",
    "\n"
   ]
  },
  {
   "cell_type": "code",
   "execution_count": 7,
   "metadata": {},
   "outputs": [
    {
     "name": "stdout",
     "output_type": "stream",
     "text": [
      "(5000, 400)\n",
      "(5000, 10)\n",
      "porcentaje de aciertos de la red: 95.84%\n",
      "[[495   0   0   1   1   0   1   1   1   0]\n",
      " [  0 489   2   2   2   2   0   2   1   0]\n",
      " [  1   3 465   3   4   3   3   5  11   2]\n",
      " [  0   3   9 465   0  12   1   5   3   2]\n",
      " [  0   2   1   0 486   0   3   0   1   7]\n",
      " [  3   1   4  10   4 473   2   0   2   1]\n",
      " [  2   2   0   0   0   5 490   0   1   0]\n",
      " [  1   7   3   0   6   1   0 474   1   7]\n",
      " [  0   3   1   6   2   2   0   1 483   2]\n",
      " [  3   2   1   4   4   2   1   9   2 472]]\n",
      "Porcentaje de positivos que no fueron falsos: 0.9801980198019802\n",
      "Porcentaje de positivos verdaderos: 0.99\n",
      "F1 Score: 0.9850746268656716\n"
     ]
    }
   ],
   "source": [
    "import numpy as np\n",
    "from sklearn.metrics import confusion_matrix, precision_score, recall_score, f1_score\n",
    "\n",
    "Y_output = net.predict(theta1,theta2,X)\n",
    "\n",
    "accuracy = np.sum(Y_output == y) / y.shape[0] * 100  # Porcentaje de aciertos\n",
    "print(f\"Porcentaje de aciertos de la red: {accuracy}%\")\n",
    "\n",
    "cm = confusion_matrix(y, Y_output)\n",
    "print(cm)\n",
    "\n",
    "precision = precision_score(y == 0, Y_output == 0)\n",
    "print(f'Porcentaje de positivos que no fueron falsos: {precision}')\n",
    "\n",
    "recall = recall_score(y == 0, Y_output == 0)\n",
    "print(f'Porcentaje de positivos verdaderos: {recall}')\n",
    "\n",
    "f1 = f1_score(y == 0, Y_output == 0)\n",
    "print(f'F1 Score: {f1}')"
   ]
  }
 ],
 "metadata": {
  "kernelspec": {
   "display_name": "Python 3",
   "language": "python",
   "name": "python3"
  },
  "language_info": {
   "codemirror_mode": {
    "name": "ipython",
    "version": 3
   },
   "file_extension": ".py",
   "mimetype": "text/x-python",
   "name": "python",
   "nbconvert_exporter": "python",
   "pygments_lexer": "ipython3",
   "version": "3.10.11"
  }
 },
 "nbformat": 4,
 "nbformat_minor": 2
}
