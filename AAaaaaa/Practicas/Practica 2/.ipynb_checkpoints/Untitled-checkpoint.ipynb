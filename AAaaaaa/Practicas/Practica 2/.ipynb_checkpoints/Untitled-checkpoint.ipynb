{
 "cells": [
  {
   "cell_type": "code",
   "execution_count": 12,
   "id": "a4cdc398-eaea-47b7-b247-08dd3799b8b0",
   "metadata": {},
   "outputs": [
    {
     "ename": "AttributeError",
     "evalue": "module 'matplotlib.pyplot' has no attribute 'scatter3D'",
     "output_type": "error",
     "traceback": [
      "\u001b[1;31m---------------------------------------------------------------------------\u001b[0m",
      "\u001b[1;31mAttributeError\u001b[0m                            Traceback (most recent call last)",
      "Cell \u001b[1;32mIn[12], line 9\u001b[0m\n\u001b[0;32m      5\u001b[0m specs \u001b[38;5;241m=\u001b[39m utils\u001b[38;5;241m.\u001b[39mload_data_multi() \u001b[38;5;66;03m#Two one-dimensional numpy arrays\u001b[39;00m\n\u001b[0;32m      7\u001b[0m \u001b[38;5;66;03m#plt.matshow(specs)\u001b[39;00m\n\u001b[0;32m      8\u001b[0m \u001b[38;5;66;03m# Tamaño - Número de dormitorios - Número de plantas - Antigüedad\u001b[39;00m\n\u001b[1;32m----> 9\u001b[0m \u001b[43mplt\u001b[49m\u001b[38;5;241;43m.\u001b[39;49m\u001b[43mscatter3D\u001b[49m(specs[\u001b[38;5;241m0\u001b[39m], specs[\u001b[38;5;241m1\u001b[39m], specs[\u001b[38;5;241m2\u001b[39m], marker \u001b[38;5;241m=\u001b[39m \u001b[38;5;124m'\u001b[39m\u001b[38;5;124mx\u001b[39m\u001b[38;5;124m'\u001b[39m)\n\u001b[0;32m     10\u001b[0m plt\u001b[38;5;241m.\u001b[39mshow()\n",
      "\u001b[1;31mAttributeError\u001b[0m: module 'matplotlib.pyplot' has no attribute 'scatter3D'"
     ]
    }
   ],
   "source": [
    "from mpl_toolkits import mplot3d\n",
    "import matplotlib.pyplot as plt # para dibujar la gráfica\n",
    "import utils\n",
    "\n",
    "\n",
    "specs = utils.load_data_multi() #Two one-dimensional numpy arrays\n",
    "\n",
    "#plt.matshow(specs)\n",
    "# Tamaño - Número de dormitorios - Número de plantas - Antigüedad\n",
    "plt.scatter3D(specs[0], specs[1], specs[2], marker = 'x')\n",
    "plt.show()\n",
    "\n",
    "#Z-score \\frac{x-\\overline{x}}{0}"
   ]
  },
  {
   "cell_type": "code",
   "execution_count": null,
   "id": "3a3ca555-c81b-4f14-a776-4a28c4874bad",
   "metadata": {},
   "outputs": [],
   "source": []
  },
  {
   "cell_type": "code",
   "execution_count": null,
   "id": "2e413e5b-d55b-4c9e-af13-bb079290fbaf",
   "metadata": {},
   "outputs": [],
   "source": []
  }
 ],
 "metadata": {
  "kernelspec": {
   "display_name": "Python 3 (ipykernel)",
   "language": "python",
   "name": "python3"
  },
  "language_info": {
   "codemirror_mode": {
    "name": "ipython",
    "version": 3
   },
   "file_extension": ".py",
   "mimetype": "text/x-python",
   "name": "python",
   "nbconvert_exporter": "python",
   "pygments_lexer": "ipython3",
   "version": "3.10.9"
  }
 },
 "nbformat": 4,
 "nbformat_minor": 5
}
