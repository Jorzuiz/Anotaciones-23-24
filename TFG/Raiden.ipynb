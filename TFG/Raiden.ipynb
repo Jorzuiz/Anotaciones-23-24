{
 "cells": [
  {
   "cell_type": "markdown",
   "metadata": {},
   "source": [
    "Prefacio\n",
    "Librerias:\n",
    "numpy - Biblioteca básica de python con utilidades para operaciones matemáticas. Comumnmente se avrebia como \"np\"\n",
    "trimesh - Manipulación y visualización de mallas 3D con compatibilidad con diferentes formatos, nos es relevante el STl para la impresión\n",
    "tensorFlow - Utilidades para machine learning. La unidad Tensor es un  grupo de datos multidimensional. Las mallas y los cortes que realizaremos se benefician de las operaciones con Tensores.\n",
    "\n",
    "Al tratarse el trabajo de operaciones con mallas, tanto el desarrollo como la ejecucion en servidores de nube se beneficiará del uso de las GPUs\n",
    "El formato usado usualmente para imresion 3d es el STl (Estereolitografía), contiene la información de la malla sin extras de color y con una restriccion de modelo que impide que la malla esté \"rota\". EL modelo obliga a tener una suoerficie superior y otra interior, de lo contrario no se podría generar el código de impresion para el objeto final en plástico."
   ]
  },
  {
   "cell_type": "code",
   "execution_count": 2,
   "metadata": {},
   "outputs": [],
   "source": [
    "%pip install numpy trimesh tensorflow"
   ]
  },
  {
   "cell_type": "markdown",
   "metadata": {},
   "source": [
    "Las mallas se usaran compresas para ahorrar datos de subida al sistema, se requiere de un modulo apra tratarlas"
   ]
  },
  {
   "cell_type": "code",
   "execution_count": null,
   "metadata": {},
   "outputs": [],
   "source": [
    "import zipfile as zp  #Compressed file utility\n",
    "import os       #File management\n",
    "\n",
    "inFile = \"./original.zip\"\n",
    "extracted = \"./files\" # Folder\n",
    "\n",
    "zp.ZipFile(inFile, \"r\").extractall(extracted)\n",
    "\n",
    "os.listDir(extracted)   # List extracted files"
   ]
  },
  {
   "cell_type": "markdown",
   "metadata": {},
   "source": [
    "Normalizacion de la malla\n",
    "Las redes de neuronas funcionan con una cantidad fija personalizada de neuronas de entrada, una IA de imagenes por ejemplo puede ser entrenada con imagenes de 512 x 512 para generar imagenes de esas dimensiones UNICAMENTE.\n",
    "A la hora de normalizar los modelos 3D necesitamos que la red crea que un anillo y un coche tienen las mismas dimensiones.\n",
    "Dividiremos el modelo en VOXELS.\n",
    "Los Voxels son un \"pixel 3D\", la manera mas facil de imaginarlo son cubos como los del minecraft.\n",
    "Nuestros modelos se dividirán en X cantida de Voxels que la red usará para el corte, de este modo la red no se preocopará por si un voxel del anillo tiene 20 vec¡rtices mientras que el del coche tiene 3 millones, solo cortará esos cuadros.\n"
   ]
  },
  {
   "cell_type": "code",
   "execution_count": null,
   "metadata": {},
   "outputs": [],
   "source": [
    "import numpy as np\n",
    "import trimesh as tr\n",
    "import tensorflow as tf\n",
    "\n"
   ]
  }
 ],
 "metadata": {
  "kernelspec": {
   "display_name": "Python 3",
   "language": "python",
   "name": "python3"
  },
  "language_info": {
   "codemirror_mode": {
    "name": "ipython",
    "version": 3
   },
   "file_extension": ".py",
   "mimetype": "text/x-python",
   "name": "python",
   "nbconvert_exporter": "python",
   "pygments_lexer": "ipython3",
   "version": "3.10.11"
  }
 },
 "nbformat": 4,
 "nbformat_minor": 2
}
